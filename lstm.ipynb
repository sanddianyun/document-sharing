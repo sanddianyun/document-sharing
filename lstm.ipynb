{
  "nbformat": 4,
  "nbformat_minor": 0,
  "metadata": {
    "colab": {
      "name": "lstm",
      "private_outputs": true,
      "provenance": [],
      "collapsed_sections": [],
      "include_colab_link": true
    },
    "kernelspec": {
      "name": "python3",
      "display_name": "Python 3"
    },
    "accelerator": "GPU"
  },
  "cells": [
    {
      "cell_type": "markdown",
      "metadata": {
        "id": "view-in-github",
        "colab_type": "text"
      },
      "source": [
        "<a href=\"https://colab.research.google.com/github/sanddianyun/document-sharing/blob/master/lstm.ipynb\" target=\"_parent\"><img src=\"https://colab.research.google.com/assets/colab-badge.svg\" alt=\"Open In Colab\"/></a>"
      ]
    },
    {
      "cell_type": "code",
      "metadata": {
        "id": "xazrh9eIcgTO"
      },
      "source": [
        "!pip install torch\n",
        "!pip install torchtext\n",
        "!python -m spacy download en\n",
        "\n",
        "\n",
        "# K80 gpu for 12 hours\n",
        "import torch\n",
        "from torch import nn, optim\n",
        "from torchtext.legacy import data ,datasets\n",
        "\n",
        "\n",
        "print('GPU:', torch.cuda.is_available())\n",
        "\n",
        "torch.manual_seed(123)"
      ],
      "execution_count": null,
      "outputs": []
    },
    {
      "cell_type": "code",
      "metadata": {
        "id": "sPOkbQz1dfMS"
      },
      "source": [
        "\n",
        "\n",
        "TEXT = data.Field(tokenize='spacy')\n",
        "LABEL = data.LabelField(dtype=torch.float)\n",
        "train_data, test_data = datasets.IMDB.splits(TEXT, LABEL)"
      ],
      "execution_count": null,
      "outputs": []
    },
    {
      "cell_type": "code",
      "metadata": {
        "id": "LodNOFuEeRuv"
      },
      "source": [
        "print('len of train data:', len(train_data))\n",
        "print('len of test data:', len(test_data))"
      ],
      "execution_count": null,
      "outputs": []
    },
    {
      "cell_type": "code",
      "metadata": {
        "id": "gnQaJuCLee2o"
      },
      "source": [
        "print(train_data.examples[15].text)\n",
        "print(train_data.examples[15].label)"
      ],
      "execution_count": null,
      "outputs": []
    },
    {
      "cell_type": "code",
      "metadata": {
        "id": "u3R5sgSme-Tt"
      },
      "source": [
        "# word2vec, glove\n",
        "TEXT.build_vocab(train_data, max_size=10000, vectors='glove.6B.100d')\n",
        "LABEL.build_vocab(train_data)\n",
        "\n",
        "\n",
        "batchsz = 30\n",
        "device = torch.device('cuda')\n",
        "train_iterator, test_iterator = data.BucketIterator.splits(\n",
        "    (train_data, test_data),\n",
        "    batch_size = batchsz,\n",
        "    device=device\n",
        ")"
      ],
      "execution_count": null,
      "outputs": []
    },
    {
      "cell_type": "code",
      "metadata": {
        "id": "PBKKxxFBgRTM"
      },
      "source": [
        "class RNN(nn.Module):\n",
        "    \n",
        "    def __init__(self, vocab_size, embedding_dim, hidden_dim):\n",
        "        \"\"\"\n",
        "        \"\"\"\n",
        "        super(RNN, self).__init__()\n",
        "        \n",
        "        # [0-10001] => [100]\n",
        "        self.embedding = nn.Embedding(vocab_size, embedding_dim)\n",
        "        # [100] => [256]\n",
        "        self.rnn = nn.LSTM(embedding_dim, hidden_dim, num_layers=2, \n",
        "                           bidirectional=True, dropout=0.5)\n",
        "        # [256*2] => [1]\n",
        "        self.fc = nn.Linear(hidden_dim*2, 1)\n",
        "        self.dropout = nn.Dropout(0.5)\n",
        "        \n",
        "        \n",
        "    def forward(self, x):\n",
        "        \"\"\"\n",
        "        x: [seq_len, b] vs [b, 3, 28, 28]\n",
        "        \"\"\"\n",
        "        # [seq, b, 1] => [seq, b, 100]\n",
        "        embedding = self.dropout(self.embedding(x))\n",
        "        \n",
        "        # output: [seq, b, hid_dim*2]\n",
        "        # hidden/h: [num_layers*2, b, hid_dim]\n",
        "        # cell/c: [num_layers*2, b, hid_di]\n",
        "        output, (hidden, cell) = self.rnn(embedding)\n",
        "        \n",
        "        # [num_layers*2, b, hid_dim] => 2 of [b, hid_dim] => [b, hid_dim*2]\n",
        "        hidden = torch.cat([hidden[-2], hidden[-1]], dim=1)\n",
        "        \n",
        "        # [b, hid_dim*2] => [b, 1]\n",
        "        hidden = self.dropout(hidden)\n",
        "        out = self.fc(hidden)\n",
        "        \n",
        "        return out"
      ],
      "execution_count": null,
      "outputs": []
    },
    {
      "cell_type": "code",
      "metadata": {
        "id": "cxq70oc9lK-4"
      },
      "source": [
        "rnn = RNN(len(TEXT.vocab), 100, 256)\n",
        "\n",
        "pretrained_embedding = TEXT.vocab.vectors\n",
        "print('pretrained_embedding:', pretrained_embedding.shape)\n",
        "rnn.embedding.weight.data.copy_(pretrained_embedding)\n",
        "print('embedding layer inited.')\n",
        "\n",
        "optimizer = optim.Adam(rnn.parameters(), lr=1e-3)\n",
        "criteon = nn.BCEWithLogitsLoss().to(device)\n",
        "rnn.to(device)\n"
      ],
      "execution_count": null,
      "outputs": []
    },
    {
      "cell_type": "code",
      "metadata": {
        "id": "_Rw_PZsZnBuJ"
      },
      "source": [
        "import numpy as np\n",
        "\n",
        "def binary_acc(preds, y):\n",
        "    \"\"\"\n",
        "    get accuracy\n",
        "    \"\"\"\n",
        "    preds = torch.round(torch.sigmoid(preds))\n",
        "    correct = torch.eq(preds, y).float()\n",
        "    acc = correct.sum() / len(correct)\n",
        "    return acc\n",
        "\n",
        "def train(rnn, iterator, optimizer, criteon):\n",
        "    \n",
        "    avg_acc = []\n",
        "    rnn.train()\n",
        "    \n",
        "    for i, batch in enumerate(iterator):\n",
        "        \n",
        "        # [seq, b] => [b, 1] => [b]\n",
        "        pred = rnn(batch.text).squeeze(1)\n",
        "        # \n",
        "        loss = criteon(pred, batch.label)\n",
        "        acc = binary_acc(pred, batch.label).item()\n",
        "        avg_acc.append(acc)\n",
        "        \n",
        "        optimizer.zero_grad()\n",
        "        loss.backward()\n",
        "        optimizer.step()\n",
        "        \n",
        "        if i%10 == 0:\n",
        "            print(i, acc)\n",
        "        \n",
        "    avg_acc = np.array(avg_acc).mean()\n",
        "    print('avg acc:', avg_acc)\n",
        "    \n",
        "    \n",
        "def eval(rnn, iterator, criteon):\n",
        "    \n",
        "    avg_acc = []\n",
        "    \n",
        "    rnn.eval()\n",
        "    \n",
        "    with torch.no_grad():\n",
        "        for batch in iterator:\n",
        "\n",
        "            # [b, 1] => [b]\n",
        "            pred = rnn(batch.text).squeeze(1)\n",
        "\n",
        "            #\n",
        "            loss = criteon(pred, batch.label)\n",
        "\n",
        "            acc = binary_acc(pred, batch.label).item()\n",
        "            avg_acc.append(acc)\n",
        "        \n",
        "    avg_acc = np.array(avg_acc).mean()\n",
        "    \n",
        "    print('>>test:', avg_acc)\n",
        "        \n",
        "    \n",
        "    "
      ],
      "execution_count": null,
      "outputs": []
    },
    {
      "cell_type": "code",
      "metadata": {
        "id": "lrjzCiiao4Qw"
      },
      "source": [
        "for epoch in range(10):\n",
        "    \n",
        "    eval(rnn, test_iterator, criteon)\n",
        "    train(rnn, train_iterator, optimizer, criteon)"
      ],
      "execution_count": null,
      "outputs": []
    },
    {
      "cell_type": "markdown",
      "metadata": {
        "id": "RfVe12D2e-3P"
      },
      "source": [
        ""
      ]
    },
    {
      "cell_type": "code",
      "metadata": {
        "id": "phfIoqAye9hW"
      },
      "source": [
        ""
      ],
      "execution_count": null,
      "outputs": []
    },
    {
      "cell_type": "markdown",
      "metadata": {
        "id": "OdGifJQme-SF"
      },
      "source": [
        ""
      ]
    },
    {
      "cell_type": "code",
      "metadata": {
        "id": "70A2cGRidIzq"
      },
      "source": [
        ""
      ],
      "execution_count": null,
      "outputs": []
    },
    {
      "cell_type": "markdown",
      "metadata": {
        "id": "OkNarxaZdJlx"
      },
      "source": [
        ""
      ]
    }
  ]
}